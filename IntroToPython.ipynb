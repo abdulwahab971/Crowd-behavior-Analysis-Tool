{
  "nbformat": 4,
  "nbformat_minor": 0,
  "metadata": {
    "colab": {
      "provenance": [],
      "include_colab_link": true
    },
    "kernelspec": {
      "name": "python3",
      "display_name": "Python 3"
    },
    "language_info": {
      "name": "python"
    }
  },
  "cells": [
    {
      "cell_type": "markdown",
      "metadata": {
        "id": "view-in-github",
        "colab_type": "text"
      },
      "source": [
        "<a href=\"https://colab.research.google.com/github/abdulwahab971/Crowd-behavior-Analysis-Tool/blob/main/IntroToPython.ipynb\" target=\"_parent\"><img src=\"https://colab.research.google.com/assets/colab-badge.svg\" alt=\"Open In Colab\"/></a>"
      ]
    },
    {
      "cell_type": "markdown",
      "source": [
        "# Python Basics"
      ],
      "metadata": {
        "id": "XNwYfELGJVVM"
      }
    },
    {
      "cell_type": "markdown",
      "source": [
        " \n",
        "\n",
        "*   Google **Colab** is a \"notebook\" (different from a script)\n",
        "*   It is made up of code cells, which run a block of code, and text cells, like this one.\n",
        "*   You will usually want to run your cells **in order** and if you make changes, be sure to keep your cells organized!\n",
        "\n",
        "\n",
        "\n"
      ],
      "metadata": {
        "id": "bSawGo_PKJEy"
      }
    },
    {
      "cell_type": "markdown",
      "source": [
        "# Libraries and Import"
      ],
      "metadata": {
        "id": "F5ODfWUa2TC7"
      }
    },
    {
      "cell_type": "markdown",
      "source": [
        "There are many prebuilt functions in Python which are accessible through packages. In order to use the functions provided by a package in your program (script/notebook) you need to import the package.\n",
        "\n",
        "This is done by using the keyword **import** followed by the package name.\n",
        "\n",
        "Below we are importing the time package which has functions to retrieve and manipulate the current time.\n",
        "\n",
        "\n",
        "for i in sequence:\n",
        "    do do\n",
        "    dppd\n",
        "    ddpdpd\n",
        "\n",
        "\n"
      ],
      "metadata": {
        "id": "2mXjl2KqT7-Z"
      }
    },
    {
      "cell_type": "code",
      "execution_count": null,
      "metadata": {
        "id": "uxasqWrCIyVe"
      },
      "outputs": [],
      "source": [
        "import time"
      ]
    },
    {
      "cell_type": "markdown",
      "source": [
        "Now that we have imported the time package we have access to the current date and time in the computer by calling the function **time.ctime()**\n",
        "\n",
        "We will talk about functions in detail later.\n",
        "\n",
        "Below we are using a variable current time to store the value of the current date and time."
      ],
      "metadata": {
        "id": "Jv9nv__lUwR5"
      }
    },
    {
      "cell_type": "code",
      "source": [
        "current_time = time.ctime()\n",
        "current_time"
      ],
      "metadata": {
        "id": "9xMekl-YJBKd",
        "colab": {
          "base_uri": "https://localhost:8080/",
          "height": 35
        },
        "outputId": "a43cf46f-8e25-4881-ffa1-bb11d0f28498"
      },
      "execution_count": null,
      "outputs": [
        {
          "output_type": "execute_result",
          "data": {
            "text/plain": [
              "'Wed Mar 22 23:53:02 2023'"
            ],
            "application/vnd.google.colaboratory.intrinsic+json": {
              "type": "string"
            }
          },
          "metadata": {},
          "execution_count": 2
        }
      ]
    },
    {
      "cell_type": "markdown",
      "source": [
        "# Variables\n",
        "\n",
        "Variables are elements used to store values. A variable is like a label, and in Python we use the **=** symbol, known as the assignment operator, to assign a value to a variable. The first time you create a variable is known as declaration.\n",
        "\n",
        "`cd = 0` is a declaration of the variable cd with an initial value of 0. In Python, you need to assign a value when declaring a variable.\n",
        "\n",
        "Chain assignment: An assignment can be chained, e.g., `a = b = 2` \n"
      ],
      "metadata": {
        "id": "lncHUh4aMGq4"
      }
    },
    {
      "cell_type": "code",
      "source": [
        "a=4"
      ],
      "metadata": {
        "id": "uBMG99DbL5g3"
      },
      "execution_count": null,
      "outputs": []
    },
    {
      "cell_type": "code",
      "source": [
        "a"
      ],
      "metadata": {
        "id": "Ck885qkXL7g1",
        "colab": {
          "base_uri": "https://localhost:8080/"
        },
        "outputId": "95a3ef73-5e16-49ed-d948-faa8c4445cf9"
      },
      "execution_count": null,
      "outputs": [
        {
          "output_type": "execute_result",
          "data": {
            "text/plain": [
              "4"
            ]
          },
          "metadata": {},
          "execution_count": 4
        }
      ]
    },
    {
      "cell_type": "code",
      "source": [
        "b = 9"
      ],
      "metadata": {
        "id": "73Q5ST09MMc7"
      },
      "execution_count": null,
      "outputs": []
    },
    {
      "cell_type": "code",
      "source": [
        "b"
      ],
      "metadata": {
        "id": "2rdrc5iHtluR",
        "colab": {
          "base_uri": "https://localhost:8080/"
        },
        "outputId": "5929e5ba-60a2-402a-d6f0-7c01078cec40"
      },
      "execution_count": null,
      "outputs": [
        {
          "output_type": "execute_result",
          "data": {
            "text/plain": [
              "9"
            ]
          },
          "metadata": {},
          "execution_count": 6
        }
      ]
    },
    {
      "cell_type": "code",
      "source": [
        "b = 2"
      ],
      "metadata": {
        "id": "6FNzvybFtpyo"
      },
      "execution_count": null,
      "outputs": []
    },
    {
      "cell_type": "code",
      "source": [
        "b"
      ],
      "metadata": {
        "id": "0m-LaFrpuZWl",
        "colab": {
          "base_uri": "https://localhost:8080/"
        },
        "outputId": "169b5ea3-cc8e-474d-dcc3-23d6ce09c9ad"
      },
      "execution_count": null,
      "outputs": [
        {
          "output_type": "execute_result",
          "data": {
            "text/plain": [
              "2"
            ]
          },
          "metadata": {},
          "execution_count": 8
        }
      ]
    },
    {
      "cell_type": "code",
      "source": [
        "# Assign \"to you\" to the variable greetings using the assignment operator\n",
        "greetings = \"Hello you\"\n",
        "\n",
        "# Changing the value of the greetings variable to \"Not me\"\n",
        "greetings = \"Not me\""
      ],
      "metadata": {
        "id": "tL5qHew_rtTH"
      },
      "execution_count": null,
      "outputs": []
    },
    {
      "cell_type": "code",
      "source": [
        "a = b = current_time"
      ],
      "metadata": {
        "id": "RP34xxBFtmvk"
      },
      "execution_count": null,
      "outputs": []
    },
    {
      "cell_type": "markdown",
      "source": [
        "## Printing\n",
        "\n",
        "If you have a variable name on its own, Collab will show you the value of that variable when you run the code cell. That is how you have been able to see the values of all the previous variables\n"
      ],
      "metadata": {
        "id": "wPZz-0Rhv8cU"
      }
    },
    {
      "cell_type": "code",
      "source": [
        "current_time"
      ],
      "metadata": {
        "id": "GPgqga58VxzZ",
        "colab": {
          "base_uri": "https://localhost:8080/",
          "height": 35
        },
        "outputId": "2bc19da1-2ee9-4f3f-dfbf-2748f9ff954e"
      },
      "execution_count": null,
      "outputs": [
        {
          "output_type": "execute_result",
          "data": {
            "text/plain": [
              "'Wed Mar 22 23:53:02 2023'"
            ],
            "application/vnd.google.colaboratory.intrinsic+json": {
              "type": "string"
            }
          },
          "metadata": {},
          "execution_count": 11
        }
      ]
    },
    {
      "cell_type": "markdown",
      "source": [
        "However, sometimes we might want to manually print some variable we are working on, to do this, we can use the print() method. We place in the parenthesis the variable we want to see printed to the output as shown below"
      ],
      "metadata": {
        "id": "QsK3-LXSVbjK"
      }
    },
    {
      "cell_type": "code",
      "source": [
        "print(current_time)"
      ],
      "metadata": {
        "id": "Tn2DtFvIJOS9",
        "colab": {
          "base_uri": "https://localhost:8080/"
        },
        "outputId": "a935f433-eb6f-41fb-c758-0bdf385f9131"
      },
      "execution_count": null,
      "outputs": [
        {
          "output_type": "stream",
          "name": "stdout",
          "text": [
            "Wed Mar 22 23:53:02 2023\n"
          ]
        }
      ]
    },
    {
      "cell_type": "markdown",
      "source": [
        "## Task a):"
      ],
      "metadata": {
        "id": "vekUL1tRtrXS"
      }
    },
    {
      "cell_type": "markdown",
      "source": [
        "Print the values of `greetings`, `a` and `b` to console"
      ],
      "metadata": {
        "id": "Zl6gSB6csFZa"
      }
    },
    {
      "cell_type": "code",
      "source": [
        "# Write a line of code to print the value stored on a \n",
        "print(a)\n",
        "\n",
        "# Write a line of code to print the value stored on greetings \n",
        "print(greetings)\n",
        "\n",
        "# Write a line of code to print the value stored on b\n",
        "print(b)\n"
      ],
      "metadata": {
        "id": "NSyi4rsotx3s",
        "colab": {
          "base_uri": "https://localhost:8080/"
        },
        "outputId": "b83db3bb-7ae2-47fd-9090-1b4a54e7d0ee"
      },
      "execution_count": null,
      "outputs": [
        {
          "output_type": "stream",
          "name": "stdout",
          "text": [
            "Wed Mar 22 23:53:02 2023\n",
            "Not me\n",
            "Wed Mar 22 23:53:02 2023\n"
          ]
        }
      ]
    },
    {
      "cell_type": "markdown",
      "source": [
        "# Basic types\n",
        "A type defines a family of values that a programming language understands. The basic types are:\n",
        "\n",
        "**integer:** The variable holds a whole number (e.g., 0, 2, 853, -58)\n",
        "\n",
        "**double:** The variable holds a decimal point value (e.g., 0.5, 1.2, 256.14, -2.5)\n",
        "\n",
        "**string:** The variable holds a series of characters surrounded by double quotes (\") (e.g., `\"a\"`, `\"This\"`, `\"This is a longer text\"`)\n",
        "\n",
        "**boolean:** A variable holds either the value of True or False\n",
        "\n",
        "A variable on Python can store any type of value. To know the type of a variable we use the **type()** method with the variable whose type we want to know within the parenthesis"
      ],
      "metadata": {
        "id": "qDJLXpEAYQK3"
      }
    },
    {
      "cell_type": "code",
      "source": [
        "alpha = 12344\n",
        "type(alpha)"
      ],
      "metadata": {
        "id": "obiE_50KMqMW",
        "colab": {
          "base_uri": "https://localhost:8080/"
        },
        "outputId": "3698c6f0-ade5-4de1-a3d9-6b3162f141c5"
      },
      "execution_count": null,
      "outputs": [
        {
          "output_type": "execute_result",
          "data": {
            "text/plain": [
              "int"
            ]
          },
          "metadata": {},
          "execution_count": 14
        }
      ]
    },
    {
      "cell_type": "code",
      "source": [
        "type(2.0)"
      ],
      "metadata": {
        "id": "PoD9MnvjMztD",
        "colab": {
          "base_uri": "https://localhost:8080/"
        },
        "outputId": "6fb8011b-cba8-4820-9a1e-44c3ff498ad3"
      },
      "execution_count": null,
      "outputs": [
        {
          "output_type": "execute_result",
          "data": {
            "text/plain": [
              "float"
            ]
          },
          "metadata": {},
          "execution_count": 15
        }
      ]
    },
    {
      "cell_type": "code",
      "source": [
        "type(\"hello\")"
      ],
      "metadata": {
        "id": "F_zk0XfGM0jB",
        "colab": {
          "base_uri": "https://localhost:8080/"
        },
        "outputId": "8be8ddf2-579c-4fdd-ef12-3a41b5970383"
      },
      "execution_count": null,
      "outputs": [
        {
          "output_type": "execute_result",
          "data": {
            "text/plain": [
              "str"
            ]
          },
          "metadata": {},
          "execution_count": 16
        }
      ]
    },
    {
      "cell_type": "code",
      "source": [
        "type('2')"
      ],
      "metadata": {
        "id": "6nIeChVcM1wl",
        "colab": {
          "base_uri": "https://localhost:8080/"
        },
        "outputId": "89540fec-d536-4062-e878-7777063bd966"
      },
      "execution_count": null,
      "outputs": [
        {
          "output_type": "execute_result",
          "data": {
            "text/plain": [
              "str"
            ]
          },
          "metadata": {},
          "execution_count": 17
        }
      ]
    },
    {
      "cell_type": "code",
      "source": [
        "type(True)"
      ],
      "metadata": {
        "id": "L8dj8-fKEk1R",
        "colab": {
          "base_uri": "https://localhost:8080/"
        },
        "outputId": "ac61f337-79d7-4ea3-b5ac-28af52932d4a"
      },
      "execution_count": null,
      "outputs": [
        {
          "output_type": "execute_result",
          "data": {
            "text/plain": [
              "bool"
            ]
          },
          "metadata": {},
          "execution_count": 18
        }
      ]
    },
    {
      "cell_type": "markdown",
      "source": [
        "###Task b): \n",
        "Write a line of code to determine what is the type of the variable current_time?"
      ],
      "metadata": {
        "id": "dz6EEUSWvb_3"
      }
    },
    {
      "cell_type": "code",
      "source": [
        "# Write the line of code below\n",
        "type(current_time)\n"
      ],
      "metadata": {
        "id": "KGRFvp_RvpgO",
        "colab": {
          "base_uri": "https://localhost:8080/"
        },
        "outputId": "dc3e5c82-5f87-4edf-f5ea-8cd3998ea2a0"
      },
      "execution_count": null,
      "outputs": [
        {
          "output_type": "execute_result",
          "data": {
            "text/plain": [
              "str"
            ]
          },
          "metadata": {},
          "execution_count": 19
        }
      ]
    },
    {
      "cell_type": "markdown",
      "source": [
        "# Number Operations\n",
        "\n",
        "Python can be used to perform basic math operation on numbers"
      ],
      "metadata": {
        "id": "V1XdjVwlLPFR"
      }
    },
    {
      "cell_type": "code",
      "source": [
        "2+9"
      ],
      "metadata": {
        "id": "pQhDIClsJLWB",
        "colab": {
          "base_uri": "https://localhost:8080/"
        },
        "outputId": "71f1773e-c304-491c-873a-35dd3374ee2c"
      },
      "execution_count": null,
      "outputs": [
        {
          "output_type": "execute_result",
          "data": {
            "text/plain": [
              "11"
            ]
          },
          "metadata": {},
          "execution_count": 20
        }
      ]
    },
    {
      "cell_type": "code",
      "source": [
        "variable = 2 + 9"
      ],
      "metadata": {
        "id": "F8estg0NLSkl"
      },
      "execution_count": null,
      "outputs": []
    },
    {
      "cell_type": "code",
      "source": [
        "2*9"
      ],
      "metadata": {
        "id": "DO-CJ4r_LTig",
        "colab": {
          "base_uri": "https://localhost:8080/"
        },
        "outputId": "d3424905-5a31-40b0-f889-7c0604cd26af"
      },
      "execution_count": null,
      "outputs": [
        {
          "output_type": "execute_result",
          "data": {
            "text/plain": [
              "18"
            ]
          },
          "metadata": {},
          "execution_count": 22
        }
      ]
    },
    {
      "cell_type": "code",
      "source": [
        "2/9"
      ],
      "metadata": {
        "id": "2E015rJKLVgS",
        "colab": {
          "base_uri": "https://localhost:8080/"
        },
        "outputId": "c4b4678b-1489-4e9a-abe3-486654438ad2"
      },
      "execution_count": null,
      "outputs": [
        {
          "output_type": "execute_result",
          "data": {
            "text/plain": [
              "0.2222222222222222"
            ]
          },
          "metadata": {},
          "execution_count": 23
        }
      ]
    },
    {
      "cell_type": "code",
      "source": [
        "2+3*9"
      ],
      "metadata": {
        "id": "Rf19cZ5XLWea",
        "colab": {
          "base_uri": "https://localhost:8080/"
        },
        "outputId": "fe905f38-4628-480a-be0a-bdad64600feb"
      },
      "execution_count": null,
      "outputs": [
        {
          "output_type": "execute_result",
          "data": {
            "text/plain": [
              "29"
            ]
          },
          "metadata": {},
          "execution_count": 24
        }
      ]
    },
    {
      "cell_type": "code",
      "source": [
        "(2+3)*9"
      ],
      "metadata": {
        "id": "rS9I9pfzLX-M",
        "colab": {
          "base_uri": "https://localhost:8080/"
        },
        "outputId": "4eccc156-33ca-4e16-fc17-112d69dded4d"
      },
      "execution_count": null,
      "outputs": [
        {
          "output_type": "execute_result",
          "data": {
            "text/plain": [
              "45"
            ]
          },
          "metadata": {},
          "execution_count": 25
        }
      ]
    },
    {
      "cell_type": "code",
      "source": [
        "2**4   # ** is the exponentiation operator. In this case: 2 to the power of 4"
      ],
      "metadata": {
        "colab": {
          "base_uri": "https://localhost:8080/"
        },
        "id": "T5jq_bFSLhuH",
        "outputId": "8be4e3bf-a72c-475e-fceb-bfcf0430fb9c"
      },
      "execution_count": null,
      "outputs": [
        {
          "output_type": "execute_result",
          "data": {
            "text/plain": [
              "16"
            ]
          },
          "metadata": {},
          "execution_count": 26
        }
      ]
    },
    {
      "cell_type": "code",
      "source": [
        "2*2*2*2"
      ],
      "metadata": {
        "id": "d5LxnXJiLlcu",
        "colab": {
          "base_uri": "https://localhost:8080/"
        },
        "outputId": "47975559-1bac-4423-fc8b-817c56dd8bf3"
      },
      "execution_count": null,
      "outputs": [
        {
          "output_type": "execute_result",
          "data": {
            "text/plain": [
              "16"
            ]
          },
          "metadata": {},
          "execution_count": 27
        }
      ]
    },
    {
      "cell_type": "markdown",
      "source": [
        "If you want to update a variable to be the sum of its current value and something else we can use the \"+=\" operator\n"
      ],
      "metadata": {
        "id": "1m9tNShygVVK"
      }
    },
    {
      "cell_type": "code",
      "source": [
        "a = 3\n",
        "b= 2\n",
        "c= 5\n",
        "d= 1\n",
        "\n",
        "print(\"a has the value: \" + str(a))\n",
        "a+=b\n",
        "print(\"a has the value: \" + str(a))\n",
        "a+=c\n",
        "print(\"a has the value: \" + str(a))\n",
        "a+=d\n",
        "print(\"a has the value: \" + str(a))"
      ],
      "metadata": {
        "id": "f4zV4x0Nf5uA",
        "colab": {
          "base_uri": "https://localhost:8080/"
        },
        "outputId": "17108e46-4ca3-4265-c770-d1359911b664"
      },
      "execution_count": null,
      "outputs": [
        {
          "output_type": "stream",
          "name": "stdout",
          "text": [
            "a has the value: 3\n",
            "a has the value: 5\n",
            "a has the value: 10\n",
            "a has the value: 11\n"
          ]
        }
      ]
    },
    {
      "cell_type": "markdown",
      "source": [
        "For more information on the types of operations supported you can read the following article [Python Operators Article](https://www.geeksforgeeks.org/python-operators/) "
      ],
      "metadata": {
        "id": "p7Sp4mHaL750"
      }
    },
    {
      "cell_type": "markdown",
      "source": [
        "# Text operations: \n",
        "String variables can be manipulated. The simplest manipulation is adding up to strings to create a new string.\n",
        "We can concatenate two strings by using the + operator.\n"
      ],
      "metadata": {
        "id": "tR-dRJy0WlPN"
      }
    },
    {
      "cell_type": "code",
      "source": [
        "\"Hello World\""
      ],
      "metadata": {
        "id": "cTwoPqb1JH3u",
        "colab": {
          "base_uri": "https://localhost:8080/",
          "height": 35
        },
        "outputId": "6f68cc5f-06e0-4ece-be74-a86bb7702e8d"
      },
      "execution_count": null,
      "outputs": [
        {
          "output_type": "execute_result",
          "data": {
            "text/plain": [
              "'Hello World'"
            ],
            "application/vnd.google.colaboratory.intrinsic+json": {
              "type": "string"
            }
          },
          "metadata": {},
          "execution_count": 29
        }
      ]
    },
    {
      "cell_type": "code",
      "source": [
        "\"hello\"+\" \"+\"Dog\""
      ],
      "metadata": {
        "id": "pup5_55ti6Lf",
        "colab": {
          "base_uri": "https://localhost:8080/",
          "height": 35
        },
        "outputId": "78b38c85-5b10-4a78-bdf4-4a04de37adb9"
      },
      "execution_count": null,
      "outputs": [
        {
          "output_type": "execute_result",
          "data": {
            "text/plain": [
              "'hello Dog'"
            ],
            "application/vnd.google.colaboratory.intrinsic+json": {
              "type": "string"
            }
          },
          "metadata": {},
          "execution_count": 30
        }
      ]
    },
    {
      "cell_type": "markdown",
      "source": [
        "We can also use the * operator to multiply the string"
      ],
      "metadata": {
        "id": "8pDeoA6XzMsM"
      }
    },
    {
      "cell_type": "code",
      "source": [
        "\"hello\"*5"
      ],
      "metadata": {
        "id": "YJ-pRms4P9Sp",
        "colab": {
          "base_uri": "https://localhost:8080/",
          "height": 35
        },
        "outputId": "ccd7675c-68ff-4b99-b30e-9c735ae9f9c0"
      },
      "execution_count": null,
      "outputs": [
        {
          "output_type": "execute_result",
          "data": {
            "text/plain": [
              "'hellohellohellohellohello'"
            ],
            "application/vnd.google.colaboratory.intrinsic+json": {
              "type": "string"
            }
          },
          "metadata": {},
          "execution_count": 31
        }
      ]
    },
    {
      "cell_type": "markdown",
      "source": [
        "### Task c):\n",
        "\n",
        "Try running the code cell below\n"
      ],
      "metadata": {
        "id": "zcnm4VVQzRtb"
      }
    },
    {
      "cell_type": "code",
      "source": [
        "print('Hello World')"
      ],
      "metadata": {
        "id": "dBAPeI_FJJpA",
        "colab": {
          "base_uri": "https://localhost:8080/"
        },
        "outputId": "6297819c-975b-41e2-8217-bf7f08eb7881"
      },
      "execution_count": null,
      "outputs": [
        {
          "output_type": "stream",
          "name": "stdout",
          "text": [
            "Hello World\n"
          ]
        }
      ]
    },
    {
      "cell_type": "markdown",
      "source": [
        "Whenever there is something wrong with your syntax, the notebook will show you an error message just like the one you saw when trying to run that cell.\n",
        "\n",
        "In this case, the problem is that Hello World is not a valid variable name. Furthermore, since it does not have \"\" it is not considered a string"
      ],
      "metadata": {
        "id": "uzweAvKkzf-I"
      }
    },
    {
      "cell_type": "code",
      "source": [
        "Hello_World = 2.134 ## this is now a valid variable name\n",
        "print(Hello_World) "
      ],
      "metadata": {
        "id": "XMZQZScyu4ZV",
        "colab": {
          "base_uri": "https://localhost:8080/"
        },
        "outputId": "2182f7b0-03cc-4808-90cc-77408a079d52"
      },
      "execution_count": null,
      "outputs": [
        {
          "output_type": "stream",
          "name": "stdout",
          "text": [
            "2.134\n"
          ]
        }
      ]
    },
    {
      "cell_type": "code",
      "source": [
        "print(\"Hello World\") # The \"\" denote a string"
      ],
      "metadata": {
        "id": "6swE1wgNurB_",
        "colab": {
          "base_uri": "https://localhost:8080/"
        },
        "outputId": "86eb044b-f3f9-4e79-d1cf-1df294c6478c"
      },
      "execution_count": null,
      "outputs": [
        {
          "output_type": "stream",
          "name": "stdout",
          "text": [
            "Hello World\n"
          ]
        }
      ]
    },
    {
      "cell_type": "markdown",
      "source": [
        "###Task d): \n",
        "Create new variables to store each of the following: \n",
        "\n",
        "*   Your first name\n",
        "*   Your last name\n",
        "*   Your favorite TV show \n",
        "\n",
        "Create another variable that contains a sentence indicating your name, last name , and tv show , and print it to console\n",
        "\n",
        "The output should look something similar to *My name is: Esteban Parra and my favorite tv show is Last week tonight*\n",
        "\n",
        "\n"
      ],
      "metadata": {
        "id": "Ie1uu8yMtSje"
      }
    },
    {
      "cell_type": "code",
      "source": [
        "# Write your code below\n",
        "first_name  = 'Abdul'\n",
        "last_name = 'Wahab'\n",
        "favorite_show = 'Last week tonight'\n",
        "\n",
        "complete = 'My name is: ' + first_name + ' ' + last_name + ' favorite tv show is ' + favorite_show\n",
        "\n",
        "complete"
      ],
      "metadata": {
        "id": "ldR-GHPmuTni",
        "colab": {
          "base_uri": "https://localhost:8080/",
          "height": 35
        },
        "outputId": "f4b93e59-4587-493e-d27e-7f200ba5eef6"
      },
      "execution_count": null,
      "outputs": [
        {
          "output_type": "execute_result",
          "data": {
            "text/plain": [
              "'My name is: Abdul Wahab favorite tv show is Last week tonight'"
            ],
            "application/vnd.google.colaboratory.intrinsic+json": {
              "type": "string"
            }
          },
          "metadata": {},
          "execution_count": 35
        }
      ]
    },
    {
      "cell_type": "markdown",
      "source": [
        "# Casting (Type Conversion)\n",
        "Casting is the process of converting a variable from one type to a different type.\n",
        "\n",
        "The most common casting you will do is to convert a variable of another type into a string. This is achieved by using str(variable_to_convert) \n",
        "\n",
        "Example:"
      ],
      "metadata": {
        "id": "K3llsz-KvSlH"
      }
    },
    {
      "cell_type": "code",
      "source": [
        "variable_1 = 1 # variable_1 is an integer holding the number 1\n",
        "variable_2 = str(variable_1) # variable_2 is a string holding the value \"1\"\n",
        "\n",
        "# If you need to print an integer you do not need to do an assignment. You can do:\n",
        "\n",
        "variable_1 = 25\n",
        "print(\"The variable's value is a: \" + str(variable_1))"
      ],
      "metadata": {
        "id": "3j8l1ayRtQF9",
        "colab": {
          "base_uri": "https://localhost:8080/"
        },
        "outputId": "4059153c-2d91-476c-9982-f3e8c7fdca48"
      },
      "execution_count": null,
      "outputs": [
        {
          "output_type": "stream",
          "name": "stdout",
          "text": [
            "The variable's value is a: 25\n"
          ]
        }
      ]
    },
    {
      "cell_type": "markdown",
      "source": [
        "\n",
        "### Task e):\n",
        "\n",
        "On the code cell below:\n",
        "1. Change the value stored in the variable greetings to be the following string \"Hi there\".\n",
        "2. Use the chain assignment to store 20 in both a and b on line 13.\n",
        "3. Use casting to convert the value of age into a number (**int**) and add it up with the value of a into variable b\n"
      ],
      "metadata": {
        "id": "wVBxjq2xwazJ"
      }
    },
    {
      "cell_type": "code",
      "source": [
        "a = 1\n",
        "age = \"20\"\n",
        "\n",
        "# Assign \"greetings\" to the variable using the assignment operator\n",
        "greetings = \"greetings\"\n",
        "print(\"greetings = \" + str(greetings))\n",
        "\n",
        "# Complete step 1 below\n",
        "\n",
        "greetings = \"Hi there\"\n",
        "\n",
        "\n",
        "\n",
        "print(\"greetings = \" + str(greetings))\n",
        "\n",
        "# Complete step 2 below\n",
        "\n",
        "\n",
        "a= b = 13\n",
        "\n",
        "print('a =' + str(a))\n",
        "\n",
        "print('b =' + str(b))\n",
        "\n",
        "# Complete step 3 below\n",
        "\n",
        "b += a + int(age)\n",
        "\n",
        "\n",
        "print(\"b is: \" + str(b))\n",
        "\n"
      ],
      "metadata": {
        "id": "kRtbJmrRwknM",
        "colab": {
          "base_uri": "https://localhost:8080/"
        },
        "outputId": "cd3dbf3f-fd94-49bd-c5bb-4188b59911d3"
      },
      "execution_count": null,
      "outputs": [
        {
          "output_type": "stream",
          "name": "stdout",
          "text": [
            "greetings = greetings\n",
            "greetings = Hi there\n",
            "a =13\n",
            "b =13\n",
            "b is: 46\n"
          ]
        }
      ]
    },
    {
      "cell_type": "markdown",
      "source": [
        "# Naming convention\n",
        "The most commonly used notation for naming variables in Python is to use lowercase and to use _ between words. \n",
        "\n",
        "Examples:\n",
        "```\n",
        "user\n",
        "username\n",
        "last_name\n",
        "temporary_pass \n",
        "very_important_value_temporary_storage\n",
        "\n",
        "```\n",
        "\n",
        "```very_important_value_temporary_storage``` is a valid variable name. But aim to keep your variable names short.\n",
        "\n",
        "Sometimes you can use abbreviations: `temp_value` instead of temporary_value\n",
        "\n",
        "Sometimes acronyms are helpful. `GPA` GPA is easy to understand if it is a program dealing with grades (in the US)"
      ],
      "metadata": {
        "id": "USVTZVfWsmE7"
      }
    },
    {
      "cell_type": "code",
      "source": [
        "variable = a*3"
      ],
      "metadata": {
        "id": "u5WqyAhkMOEi"
      },
      "execution_count": null,
      "outputs": []
    },
    {
      "cell_type": "code",
      "source": [
        "total = a+b"
      ],
      "metadata": {
        "id": "2JedYDZQMPOg"
      },
      "execution_count": null,
      "outputs": []
    },
    {
      "cell_type": "code",
      "source": [
        "total"
      ],
      "metadata": {
        "id": "-9LUsHl1MQLX",
        "colab": {
          "base_uri": "https://localhost:8080/"
        },
        "outputId": "7426431e-6357-45ab-9d61-1bdc833d4a45"
      },
      "execution_count": null,
      "outputs": [
        {
          "output_type": "execute_result",
          "data": {
            "text/plain": [
              "59"
            ]
          },
          "metadata": {},
          "execution_count": 40
        }
      ]
    },
    {
      "cell_type": "code",
      "source": [
        "a = 10"
      ],
      "metadata": {
        "id": "-aFzEx00MQ2K"
      },
      "execution_count": null,
      "outputs": []
    },
    {
      "cell_type": "code",
      "source": [
        "total"
      ],
      "metadata": {
        "id": "5tC86EQHMSJ1",
        "colab": {
          "base_uri": "https://localhost:8080/"
        },
        "outputId": "1f5f3c37-fc99-4f53-fa56-8dd2278d44ff"
      },
      "execution_count": null,
      "outputs": [
        {
          "output_type": "execute_result",
          "data": {
            "text/plain": [
              "59"
            ]
          },
          "metadata": {},
          "execution_count": 42
        }
      ]
    },
    {
      "cell_type": "code",
      "source": [
        "total = a+b"
      ],
      "metadata": {
        "id": "lbxhH-OYMSmJ"
      },
      "execution_count": null,
      "outputs": []
    },
    {
      "cell_type": "code",
      "source": [
        "total"
      ],
      "metadata": {
        "id": "2aE0kYcrMTrE",
        "colab": {
          "base_uri": "https://localhost:8080/"
        },
        "outputId": "07f39cc7-0e8a-4162-b0d1-bdf476458605"
      },
      "execution_count": null,
      "outputs": [
        {
          "output_type": "execute_result",
          "data": {
            "text/plain": [
              "56"
            ]
          },
          "metadata": {},
          "execution_count": 44
        }
      ]
    },
    {
      "cell_type": "code",
      "source": [
        "purchase_price = 5\n",
        "state_tax_rate = 0.075\n",
        "county_tax_rate = 0.02\n",
        "city_tax_rate = 0\n",
        "sales_tax_rate = state_tax_rate + county_tax_rate + city_tax_rate\n",
        "sales_tax = purchase_price * sales_tax_rate\n",
        "print(sales_tax)"
      ],
      "metadata": {
        "id": "SgGs19X5tFLQ",
        "colab": {
          "base_uri": "https://localhost:8080/"
        },
        "outputId": "54439415-ec5a-4c34-b9a1-fa4564622524"
      },
      "execution_count": null,
      "outputs": [
        {
          "output_type": "stream",
          "name": "stdout",
          "text": [
            "0.475\n"
          ]
        }
      ]
    },
    {
      "cell_type": "markdown",
      "source": [
        "# Comments\n",
        "\n",
        "Comments are pieces of text that describe your code\n",
        "\n",
        "Comments should be complete sentences. The first word should be capitalized unless it is an identifier that begins with a lowercase letter. Ensure that your comments are clear and easily understandable to other people.\n",
        "\n",
        "A comment in Python starts with the hash (#) character followed by a single space. Comments extend to the end of the physical line.\n",
        "\n",
        "A comment line always starts with # and is generally colored green\n",
        "\n",
        "## Block Comments\n",
        "Block comments generally apply to a large section of code that follows them.\n",
        "\n",
        "Block comments indented to the same level as that code.\n",
        "\n",
        "## Inline Comments\n",
        "Use inline comments sparingly. An inline comment is a comment on the same line as a statement. Inline comments should be separated by at least two spaces from the statement.\n",
        "\n"
      ],
      "metadata": {
        "id": "9kdbfPoxXu4z"
      }
    },
    {
      "cell_type": "code",
      "source": [
        "#comments! \n",
        "\n",
        "# This is a comment line\n",
        "\n",
        "print(\"Hello!\")  # This comment is for the second line.\n",
        "\n",
        "print(\"# this is not a comment\")\n",
        "\n",
        "a = 10  # This is an inline comment, code before the comment will run\n",
        "# print(a) . No code on this line will run\n",
        "\n",
        "# print(a)   # If you remove the first #, you will uncomment the code. This text will remain commented"
      ],
      "metadata": {
        "id": "sazJ134tMUrv",
        "colab": {
          "base_uri": "https://localhost:8080/"
        },
        "outputId": "e4cdd1e1-fd38-450d-f663-8d5aad9f8b74"
      },
      "execution_count": null,
      "outputs": [
        {
          "output_type": "stream",
          "name": "stdout",
          "text": [
            "Hello!\n",
            "# this is not a comment\n"
          ]
        }
      ]
    },
    {
      "cell_type": "markdown",
      "source": [
        "### Task f):\n",
        "Comment the print line of code below. When clicking the run button, you should not see any output"
      ],
      "metadata": {
        "id": "-PwXq4Wip4XL"
      }
    },
    {
      "cell_type": "code",
      "source": [
        "# The following line should be commented:\n",
        "#print(\"This line should not be printed!\")"
      ],
      "metadata": {
        "id": "fggcjq8yp0Ny"
      },
      "execution_count": null,
      "outputs": []
    },
    {
      "cell_type": "markdown",
      "source": [
        "# Python Built-In Functions\n",
        "\n",
        "A function is a block of organized, reusable code that is used to perform a single, related action. Functions provide better modularity for your application.\n",
        "\n",
        "Just like Excel, Python gives you many built-in functions like print() and type(), we will see a few more below.\n",
        "\n",
        "Functions like print and type require you to provide an a variable as an argument within the parenthesis. Some functions do not require arguments, others require 1, others require more.\n",
        "\n",
        "Furthermore, there are even more fuctions provided in libraries and if none of them are what you need you can also create your own functions. These functions are called user-defined functions.\n",
        "\n",
        "*   **Note:** Do not name your variables the same name as a function. \n",
        "\n",
        "For more built-in function, you can [Python Built-In Functions](https://www.w3schools.com/python/python_ref_functions.asp)\n",
        "\n"
      ],
      "metadata": {
        "id": "XVagnjryNLuC"
      }
    },
    {
      "cell_type": "markdown",
      "source": [
        "## abs(x) \n",
        "Return the absolute value of the numerical value you pass as argument. Think of absolute value as the positive value of any number"
      ],
      "metadata": {
        "id": "3IgPvBwVP8tj"
      }
    },
    {
      "cell_type": "code",
      "source": [
        "abs(-5)"
      ],
      "metadata": {
        "id": "X0KvLEq1M3MB",
        "colab": {
          "base_uri": "https://localhost:8080/"
        },
        "outputId": "bd32cf61-8fff-4b85-8fc2-640e7ad13b24"
      },
      "execution_count": null,
      "outputs": [
        {
          "output_type": "execute_result",
          "data": {
            "text/plain": [
              "5"
            ]
          },
          "metadata": {},
          "execution_count": 48
        }
      ]
    },
    {
      "cell_type": "code",
      "source": [
        "day_temp = 51\n",
        "night_temp = 47\n",
        "diff_temp = night_temp-day_temp\n",
        "diff_temp_a = abs(night_temp-day_temp)"
      ],
      "metadata": {
        "id": "9nUKbneROBVX"
      },
      "execution_count": null,
      "outputs": []
    },
    {
      "cell_type": "code",
      "source": [
        "print(diff_temp)\n",
        "print(diff_temp_a)"
      ],
      "metadata": {
        "id": "E1HmWS6wORCI",
        "colab": {
          "base_uri": "https://localhost:8080/"
        },
        "outputId": "d83cbdf8-7084-4078-fef4-2e86b69c4550"
      },
      "execution_count": null,
      "outputs": [
        {
          "output_type": "stream",
          "name": "stdout",
          "text": [
            "-4\n",
            "4\n"
          ]
        }
      ]
    },
    {
      "cell_type": "markdown",
      "source": [
        "## round(number, ndigits = None)\n",
        "Round a number to a given precision in decimal digits.\n",
        "\n",
        "The return value is an integer if ndigits is None"
      ],
      "metadata": {
        "id": "fh7SGWo-QNnM"
      }
    },
    {
      "cell_type": "markdown",
      "source": [
        "If you want to see the documentation of a function You can type the name of a function followed by a question mark **?** on a code cell.\n",
        "\n",
        "Try it below:"
      ],
      "metadata": {
        "id": "7Uh9tDbuQdSD"
      }
    },
    {
      "cell_type": "code",
      "source": [
        "round?"
      ],
      "metadata": {
        "id": "snXSzvlENud3"
      },
      "execution_count": null,
      "outputs": []
    },
    {
      "cell_type": "code",
      "source": [
        "round(124.2543452, 2)"
      ],
      "metadata": {
        "id": "kx0S-wBNOAjx",
        "colab": {
          "base_uri": "https://localhost:8080/"
        },
        "outputId": "fc27fa39-3227-4e00-d932-153856e594d3"
      },
      "execution_count": null,
      "outputs": [
        {
          "output_type": "execute_result",
          "data": {
            "text/plain": [
              "124.25"
            ]
          },
          "metadata": {},
          "execution_count": 52
        }
      ]
    },
    {
      "cell_type": "code",
      "source": [
        "round(123.45)"
      ],
      "metadata": {
        "id": "JbC2IIdGONHi",
        "colab": {
          "base_uri": "https://localhost:8080/"
        },
        "outputId": "063feaf6-ed29-4aae-af02-171adf928493"
      },
      "execution_count": null,
      "outputs": [
        {
          "output_type": "execute_result",
          "data": {
            "text/plain": [
              "123"
            ]
          },
          "metadata": {},
          "execution_count": 53
        }
      ]
    },
    {
      "cell_type": "code",
      "source": [
        "round(123.4543432,3)"
      ],
      "metadata": {
        "id": "IP5JWtwQOOqh",
        "colab": {
          "base_uri": "https://localhost:8080/"
        },
        "outputId": "ab44704e-fbc1-41fa-fd04-bbaafae10567"
      },
      "execution_count": null,
      "outputs": [
        {
          "output_type": "execute_result",
          "data": {
            "text/plain": [
              "123.454"
            ]
          },
          "metadata": {},
          "execution_count": 54
        }
      ]
    },
    {
      "cell_type": "code",
      "source": [
        "round(123.45)"
      ],
      "metadata": {
        "id": "696blh4ePmRX",
        "colab": {
          "base_uri": "https://localhost:8080/"
        },
        "outputId": "4a9db731-0f80-4724-ab37-068a1c32e19e"
      },
      "execution_count": null,
      "outputs": [
        {
          "output_type": "execute_result",
          "data": {
            "text/plain": [
              "123"
            ]
          },
          "metadata": {},
          "execution_count": 55
        }
      ]
    },
    {
      "cell_type": "markdown",
      "source": [
        "## min() and max()\n",
        "\n",
        "When given two or more arguments, min() returns the smallest argument and max() returns the largest argument.\n"
      ],
      "metadata": {
        "id": "e2cBGLBBZQ1D"
      }
    },
    {
      "cell_type": "code",
      "source": [
        "min(14,15,12,12)"
      ],
      "metadata": {
        "id": "BqA-ZP5COK-d",
        "colab": {
          "base_uri": "https://localhost:8080/"
        },
        "outputId": "d4141a7e-a355-4b11-d189-5abaa4416483"
      },
      "execution_count": null,
      "outputs": [
        {
          "output_type": "execute_result",
          "data": {
            "text/plain": [
              "12"
            ]
          },
          "metadata": {},
          "execution_count": 56
        }
      ]
    },
    {
      "cell_type": "code",
      "source": [
        "max(1,200,13,23,23)"
      ],
      "metadata": {
        "id": "U2jAPY5gZLAO",
        "colab": {
          "base_uri": "https://localhost:8080/"
        },
        "outputId": "790596ed-f46e-4456-9ed2-dcd02262a5d3"
      },
      "execution_count": null,
      "outputs": [
        {
          "output_type": "execute_result",
          "data": {
            "text/plain": [
              "200"
            ]
          },
          "metadata": {},
          "execution_count": 57
        }
      ]
    },
    {
      "cell_type": "markdown",
      "source": [
        "###Task g):\n",
        "Write a line of code to open the doumentation of the min function"
      ],
      "metadata": {
        "id": "IgxBWUPBw8Jh"
      }
    },
    {
      "cell_type": "code",
      "source": [
        "# Write your code below\n",
        "min?"
      ],
      "metadata": {
        "id": "07hqu2rpxDjO"
      },
      "execution_count": null,
      "outputs": []
    },
    {
      "cell_type": "markdown",
      "source": [
        "# sqrt() ????\n",
        "\n",
        "Let's try the sqrt() function below to get the square root of a number"
      ],
      "metadata": {
        "id": "qM74pBDyZpz9"
      }
    },
    {
      "cell_type": "code",
      "source": [
        "sqrt(42)"
      ],
      "metadata": {
        "id": "fz4bte5sOvO-",
        "colab": {
          "base_uri": "https://localhost:8080/",
          "height": 165
        },
        "outputId": "33f620b5-c87c-4904-8b0b-2f96abdf8741"
      },
      "execution_count": null,
      "outputs": [
        {
          "output_type": "error",
          "ename": "NameError",
          "evalue": "ignored",
          "traceback": [
            "\u001b[0;31m---------------------------------------------------------------------------\u001b[0m",
            "\u001b[0;31mNameError\u001b[0m                                 Traceback (most recent call last)",
            "\u001b[0;32m<ipython-input-59-f5657d1c93ac>\u001b[0m in \u001b[0;36m<module>\u001b[0;34m\u001b[0m\n\u001b[0;32m----> 1\u001b[0;31m \u001b[0msqrt\u001b[0m\u001b[0;34m(\u001b[0m\u001b[0;36m42\u001b[0m\u001b[0;34m)\u001b[0m\u001b[0;34m\u001b[0m\u001b[0;34m\u001b[0m\u001b[0m\n\u001b[0m",
            "\u001b[0;31mNameError\u001b[0m: name 'sqrt' is not defined"
          ]
        }
      ]
    },
    {
      "cell_type": "code",
      "source": [
        "sqrt?"
      ],
      "metadata": {
        "id": "LqJ7hnEjR7v1",
        "colab": {
          "base_uri": "https://localhost:8080/"
        },
        "outputId": "29ac239a-8ad2-4563-d701-79f447c59b41"
      },
      "execution_count": null,
      "outputs": [
        {
          "output_type": "stream",
          "name": "stdout",
          "text": [
            "Object `sqrt` not found.\n"
          ]
        }
      ]
    },
    {
      "cell_type": "markdown",
      "source": [
        "As you can see there is no sqrt built-in function in Python. However, we can use the ** Exponent operator to get the square root. Like we saw before\n",
        "\n",
        "The square root is the same as the exponent 0.5\n",
        "\n",
        "* Disclaimer: Expect me to ask you something with this type of math in an exam"
      ],
      "metadata": {
        "id": "-UKi8KElZ0G8"
      }
    },
    {
      "cell_type": "code",
      "source": [
        "42**(1/2)"
      ],
      "metadata": {
        "id": "xnaUP5leW18m",
        "colab": {
          "base_uri": "https://localhost:8080/"
        },
        "outputId": "aab54f63-31c1-4049-ec50-6c50b0b04702"
      },
      "execution_count": null,
      "outputs": [
        {
          "output_type": "execute_result",
          "data": {
            "text/plain": [
              "6.48074069840786"
            ]
          },
          "metadata": {},
          "execution_count": 61
        }
      ]
    },
    {
      "cell_type": "markdown",
      "source": [
        "# sqrt() Does exist\n",
        "\n",
        "We were not able to use sqrt() because it is not a built-in function in Python. However, there are multiple Python libraries that provide a square root function **sqrt()**\n",
        "\n",
        "The **math** library is a Python library that provides function for more complex mathematical operations such as sqrt()\n",
        "\n",
        "The **numpy** library is a Python library that provides function for more complex operations with numbers such as sqrt()\n",
        "\n",
        "Before you cna use them, you need to import the corresponding library"
      ],
      "metadata": {
        "id": "8VmsCOOdaVZ0"
      }
    },
    {
      "cell_type": "code",
      "source": [
        "import math as m\n",
        "m.sqrt(42)"
      ],
      "metadata": {
        "id": "kJfd5RpyOQrR",
        "colab": {
          "base_uri": "https://localhost:8080/"
        },
        "outputId": "d91c4dda-bc97-4d60-e5b5-dd9aac38a64c"
      },
      "execution_count": null,
      "outputs": [
        {
          "output_type": "execute_result",
          "data": {
            "text/plain": [
              "6.48074069840786"
            ]
          },
          "metadata": {},
          "execution_count": 62
        }
      ]
    },
    {
      "cell_type": "code",
      "source": [
        "import numpy as np"
      ],
      "metadata": {
        "id": "3bRIB1_BXPRP"
      },
      "execution_count": null,
      "outputs": []
    },
    {
      "cell_type": "code",
      "source": [
        "np.sqrt(42)"
      ],
      "metadata": {
        "id": "3bWqUmObXc8l",
        "colab": {
          "base_uri": "https://localhost:8080/"
        },
        "outputId": "ca5ed623-257f-4f80-88bc-4266935643a1"
      },
      "execution_count": null,
      "outputs": [
        {
          "output_type": "execute_result",
          "data": {
            "text/plain": [
              "6.48074069840786"
            ]
          },
          "metadata": {},
          "execution_count": 64
        }
      ]
    },
    {
      "cell_type": "markdown",
      "source": [
        "### Problem 1: Calculating Compound Interest\n",
        "\n",
        "Write a program that calculates the amount of money you will have if you invest a certain amount of money at a fixed interest rate for a specified number of years. The program should do the following:\n",
        "\n",
        "Create variables that store each of the following: \n",
        "\n",
        "*   Initial investment amount or principal\n",
        "*   Interest rate (in percent) [e.g.,  2.3]\n",
        "*   Number of years to invest\n",
        "\n",
        "\n",
        "Note: Your variable storing the interest rate should not have a % sign\n"
      ],
      "metadata": {
        "id": "neIoVD0Xyn4p"
      }
    },
    {
      "cell_type": "code",
      "source": [
        "# Create your variables on this code cell\n",
        "# Get user input for principal, interest rate, and number of years\n",
        "principal = float(input(\"Enter the initial investment amount: \"))\n",
        "interest_rate = float(input(\"Enter the interest rate (in percent): \")) / 100\n",
        "num_years = int(input(\"Enter the number of years to invest: \"))\n",
        "\n",
        "# Calculate the final amount\n",
        "final_amount = principal * (1 + interest_rate) ** num_years\n",
        "\n",
        "# Print the final amount rounded to 2 decimal places\n",
        "print(\"After\", num_years, \"years, your investment will be worth $\", round(final_amount, 2))\n",
        "\n"
      ],
      "metadata": {
        "id": "bKyyKZdRznZ0",
        "colab": {
          "base_uri": "https://localhost:8080/"
        },
        "outputId": "845e934c-d480-44db-8a79-268312a4f00a"
      },
      "execution_count": null,
      "outputs": [
        {
          "output_type": "stream",
          "name": "stdout",
          "text": [
            "Enter the initial investment amount: 2000\n",
            "Enter the interest rate (in percent): 12\n",
            "Enter the number of years to invest: 2\n",
            "After 2 years, your investment will be worth $ 2508.8\n"
          ]
        }
      ]
    },
    {
      "cell_type": "markdown",
      "source": [
        "Calculate the amount of money you will have after the specified number of years using the formula: A = P * (1 + r/100) ** n, where A is the amount of money you will have, P is the initial investment amount, r is the interest rate (in percent), and n is the number of years to invest.\n",
        "\n",
        "Store this result in a new variable"
      ],
      "metadata": {
        "id": "19axqZ1pzC1a"
      }
    },
    {
      "cell_type": "code",
      "source": [
        "# Write the code for your calculation on this code cell\n",
        "\n",
        "P = principal \n",
        "r = interest_rate \n",
        "n = num_years \n",
        "\n",
        "# Calculate the final amount using the formula\n",
        "A = P * (1 + r/100) ** n\n"
      ],
      "metadata": {
        "id": "cUL1SKBdzt6x"
      },
      "execution_count": null,
      "outputs": []
    },
    {
      "cell_type": "markdown",
      "source": [
        "Print a message that says \"After [n] years, you will have [A] dollars.\", where [n] is the number of years entered by the user and [A] is the amount of money you will have."
      ],
      "metadata": {
        "id": "H305_UfLy4he"
      }
    },
    {
      "cell_type": "code",
      "source": [
        "# Write your print statement on this code cell\n",
        "\n",
        "\n",
        "# Print out a message with the final amount and number of years\n",
        "print(\"After\", num_years, \"years, you will have $\", round(final_amount, 2), \"dollars.\")\n"
      ],
      "metadata": {
        "id": "WbpMN1LOz95w",
        "colab": {
          "base_uri": "https://localhost:8080/"
        },
        "outputId": "2c015a88-6d91-47fe-b93f-ca54390fc288"
      },
      "execution_count": null,
      "outputs": [
        {
          "output_type": "stream",
          "name": "stdout",
          "text": [
            "After 2 years, you will have $ 2508.8 dollars.\n"
          ]
        }
      ]
    },
    {
      "cell_type": "markdown",
      "source": [
        "# Python Lists\n",
        "\n",
        "A Python list is a variable that can store multiple items. You can access any item in the list by using it's index. Python Lists are very versatile and can contain different types of elements\n",
        "\n",
        "A list can be initialized by using a series of comma-separated values (items) enclosed in square brackets. \n",
        "Examples:"
      ],
      "metadata": {
        "id": "59uwHw6JQOmo"
      }
    },
    {
      "cell_type": "code",
      "source": [
        "#empty list\n",
        "times = []"
      ],
      "metadata": {
        "id": "Dc9sx0t2RtFv"
      },
      "execution_count": null,
      "outputs": []
    },
    {
      "cell_type": "code",
      "source": [
        "print(times)"
      ],
      "metadata": {
        "colab": {
          "base_uri": "https://localhost:8080/"
        },
        "id": "dqD2sZuudldh",
        "outputId": "0e7b10b4-dc28-4baf-aca8-d686aea34958"
      },
      "execution_count": null,
      "outputs": [
        {
          "output_type": "stream",
          "name": "stdout",
          "text": [
            "[]\n"
          ]
        }
      ]
    },
    {
      "cell_type": "code",
      "source": [
        "#list of strings\n",
        "animals = ['cat', 'dog', 'bunny', 'whale', 'lizard']"
      ],
      "metadata": {
        "id": "DJkjYsJyQN9W"
      },
      "execution_count": null,
      "outputs": []
    },
    {
      "cell_type": "code",
      "source": [
        "print(animals)"
      ],
      "metadata": {
        "id": "lTfxnIIbCorK",
        "colab": {
          "base_uri": "https://localhost:8080/"
        },
        "outputId": "c1bc2d30-ef47-478a-daad-4ebcd2ff8eb1"
      },
      "execution_count": null,
      "outputs": [
        {
          "output_type": "stream",
          "name": "stdout",
          "text": [
            "['cat', 'dog', 'bunny', 'whale', 'lizard']\n"
          ]
        }
      ]
    },
    {
      "cell_type": "code",
      "source": [
        "#list integers\n",
        "int_list = [1, 2, 3]"
      ],
      "metadata": {
        "id": "gTSHJb7ZP34s"
      },
      "execution_count": null,
      "outputs": []
    },
    {
      "cell_type": "markdown",
      "source": [
        "You can add new items at the end of the list by using the append() method or list concatenation with the \"**+=**\" operator"
      ],
      "metadata": {
        "id": "etbUACshgZRI"
      }
    },
    {
      "cell_type": "code",
      "source": [
        "times.append('9:50')\n",
        "times"
      ],
      "metadata": {
        "id": "coadiXtkSNkJ",
        "colab": {
          "base_uri": "https://localhost:8080/"
        },
        "outputId": "d851236f-e672-4f3c-9c05-352eb2d664f4"
      },
      "execution_count": null,
      "outputs": [
        {
          "output_type": "execute_result",
          "data": {
            "text/plain": [
              "['9:50']"
            ]
          },
          "metadata": {},
          "execution_count": 73
        }
      ]
    },
    {
      "cell_type": "code",
      "source": [
        "times.append('1:00')\n",
        "times"
      ],
      "metadata": {
        "id": "4CShHBjxHcYv",
        "colab": {
          "base_uri": "https://localhost:8080/"
        },
        "outputId": "f61672c7-2c33-4286-a611-c86517be0e25"
      },
      "execution_count": null,
      "outputs": [
        {
          "output_type": "execute_result",
          "data": {
            "text/plain": [
              "['9:50', '1:00']"
            ]
          },
          "metadata": {},
          "execution_count": 74
        }
      ]
    },
    {
      "cell_type": "code",
      "source": [
        "# list concatenation adds all of the elements of a list to the end of another list\n",
        "times_too = ['12:00','12;50']\n",
        "print(\"Before concatenation\")\n",
        "print(times)\n",
        "print(times_too)\n",
        "times = times + times_too\n",
        "print(\"After concatenation\")\n",
        "print(times)\n",
        "print(times_too)"
      ],
      "metadata": {
        "id": "kd7uSAYhgos3",
        "colab": {
          "base_uri": "https://localhost:8080/"
        },
        "outputId": "01817e39-d394-4512-fee6-9d570458176d"
      },
      "execution_count": null,
      "outputs": [
        {
          "output_type": "stream",
          "name": "stdout",
          "text": [
            "Before concatenation\n",
            "['9:50', '1:00']\n",
            "['12:00', '12;50']\n",
            "After concatenation\n",
            "['9:50', '1:00', '12:00', '12;50']\n",
            "['12:00', '12;50']\n"
          ]
        }
      ]
    },
    {
      "cell_type": "markdown",
      "source": [
        "### Task h):\n",
        "Run the code cell above again. What do you notice about the result? Write below (in this text cell) what you see and why do you think that is happening\n",
        "\n",
        "**write here**\n",
        "List concatenation adds all elements at the end of the list."
      ],
      "metadata": {
        "id": "YgEf_H1DhMUs"
      }
    },
    {
      "cell_type": "markdown",
      "source": [
        "The code below fixes the issue by creating a new vaiable `times3` to store the concatenated result"
      ],
      "metadata": {
        "id": "Nl4m7aAj0vmy"
      }
    },
    {
      "cell_type": "code",
      "source": [
        "# list concatenation adds all of the elements of a list to the end of another list\n",
        "times_too = ['12:00','12;50']\n",
        "print(\"Before concatenation\")\n",
        "print(times)\n",
        "print(times_too)\n",
        "times3 = times + times_too\n",
        "print(\"After concatenation\")\n",
        "print(times)\n",
        "print(times_too)\n",
        "print(times3)"
      ],
      "metadata": {
        "id": "6TcwsR6B0tiC",
        "colab": {
          "base_uri": "https://localhost:8080/"
        },
        "outputId": "aa64228b-f3fd-4b51-9980-893dff1b4ec8"
      },
      "execution_count": null,
      "outputs": [
        {
          "output_type": "stream",
          "name": "stdout",
          "text": [
            "Before concatenation\n",
            "['9:50', '1:00', '12:00', '12;50']\n",
            "['12:00', '12;50']\n",
            "After concatenation\n",
            "['9:50', '1:00', '12:00', '12;50']\n",
            "['12:00', '12;50']\n",
            "['9:50', '1:00', '12:00', '12;50', '12:00', '12;50']\n"
          ]
        }
      ]
    },
    {
      "cell_type": "markdown",
      "source": [
        "## Indices \n",
        "The content of a lists can be changed using their index in square brackets."
      ],
      "metadata": {
        "id": "fD0-2w_5dS9P"
      }
    },
    {
      "cell_type": "code",
      "source": [
        "cubes = [1, 8, 27, 65, 125]  # something's wrong here\n",
        "print(\"before:\" + str(cubes))\n",
        "# the cube of 4 is 64, not 65!\n",
        "cubes[3] = 64  # replace the wrong value\n",
        "print(\"after: \" + str(cubes))"
      ],
      "metadata": {
        "id": "0I9ghJtrd20l",
        "colab": {
          "base_uri": "https://localhost:8080/"
        },
        "outputId": "8ae35162-ac23-418a-f37f-212f0ac68dec"
      },
      "execution_count": null,
      "outputs": [
        {
          "output_type": "stream",
          "name": "stdout",
          "text": [
            "before:[1, 8, 27, 65, 125]\n",
            "after: [1, 8, 27, 64, 125]\n"
          ]
        }
      ]
    },
    {
      "cell_type": "markdown",
      "source": [
        "Why did we modify index 3 if the wrong value is at the fourth position?\n",
        "\n",
        "The indices of a list on python start at 0. Below is a representation of what the indices of the cubes list and their corresponding values\n",
        "\n",
        "`list_values = [1, 8, 27, 64, 125]`\n",
        "\n",
        "`list_indices = [0, 1, 2, 3, 4]`\n",
        "\n",
        "In general, for any list with N elements:\n",
        "\n",
        "* The index of the first element is 0\n",
        "* The index of the last element is N-1"
      ],
      "metadata": {
        "id": "4pDceKzkd_u4"
      }
    },
    {
      "cell_type": "code",
      "source": [
        "animals"
      ],
      "metadata": {
        "id": "5CH1a1kVDP0J",
        "colab": {
          "base_uri": "https://localhost:8080/"
        },
        "outputId": "bcaf6e02-ac53-4551-c43d-16a666e3ecab"
      },
      "execution_count": null,
      "outputs": [
        {
          "output_type": "execute_result",
          "data": {
            "text/plain": [
              "['cat', 'dog', 'bunny', 'whale', 'lizard']"
            ]
          },
          "metadata": {},
          "execution_count": 79
        }
      ]
    },
    {
      "cell_type": "code",
      "source": [
        "# We access different elements in a list by indexing\n",
        "animals[0]"
      ],
      "metadata": {
        "id": "iV06GObMR78e",
        "colab": {
          "base_uri": "https://localhost:8080/",
          "height": 35
        },
        "outputId": "23176b84-a149-468e-bd7c-f9cf75b89933"
      },
      "execution_count": null,
      "outputs": [
        {
          "output_type": "execute_result",
          "data": {
            "text/plain": [
              "'cat'"
            ],
            "application/vnd.google.colaboratory.intrinsic+json": {
              "type": "string"
            }
          },
          "metadata": {},
          "execution_count": 80
        }
      ]
    },
    {
      "cell_type": "markdown",
      "source": [
        "In Python we can also use negative indexes to refer to indexes starting from the last position.\n",
        "Therefore, list[-1] refeers to the last element"
      ],
      "metadata": {
        "id": "tCAmzYAgectM"
      }
    },
    {
      "cell_type": "code",
      "source": [
        "animals[-2]"
      ],
      "metadata": {
        "id": "udGD3oQGDq_b",
        "colab": {
          "base_uri": "https://localhost:8080/",
          "height": 35
        },
        "outputId": "5b7b6215-9392-41fa-aed2-33124c4fe446"
      },
      "execution_count": null,
      "outputs": [
        {
          "output_type": "execute_result",
          "data": {
            "text/plain": [
              "'whale'"
            ],
            "application/vnd.google.colaboratory.intrinsic+json": {
              "type": "string"
            }
          },
          "metadata": {},
          "execution_count": 81
        }
      ]
    },
    {
      "cell_type": "markdown",
      "source": [
        "### Task i: \n",
        "Write a line of code to print the element of the animals list at index 3 in the code cell below"
      ],
      "metadata": {
        "id": "vEest_MoeLL3"
      }
    },
    {
      "cell_type": "code",
      "source": [
        "# Write your code below\n",
        "animals[3]"
      ],
      "metadata": {
        "id": "7IWwjw37STas",
        "colab": {
          "base_uri": "https://localhost:8080/",
          "height": 35
        },
        "outputId": "bc096b76-53e9-42c4-88eb-d7706beeb1d9"
      },
      "execution_count": null,
      "outputs": [
        {
          "output_type": "execute_result",
          "data": {
            "text/plain": [
              "'whale'"
            ],
            "application/vnd.google.colaboratory.intrinsic+json": {
              "type": "string"
            }
          },
          "metadata": {},
          "execution_count": 82
        }
      ]
    },
    {
      "cell_type": "markdown",
      "source": [
        "### Task j: \n",
        "Write a line of code to print the last element of the animals list in the code cell below"
      ],
      "metadata": {
        "id": "DjPix0sIh8Us"
      }
    },
    {
      "cell_type": "code",
      "source": [
        "# Write your code below\n",
        "animals[-1]"
      ],
      "metadata": {
        "id": "J3filvMPiAzS",
        "colab": {
          "base_uri": "https://localhost:8080/",
          "height": 35
        },
        "outputId": "7afd0161-5f30-402a-d42d-5c49528760f9"
      },
      "execution_count": null,
      "outputs": [
        {
          "output_type": "execute_result",
          "data": {
            "text/plain": [
              "'lizard'"
            ],
            "application/vnd.google.colaboratory.intrinsic+json": {
              "type": "string"
            }
          },
          "metadata": {},
          "execution_count": 83
        }
      ]
    },
    {
      "cell_type": "markdown",
      "source": [
        "## len(x)\n",
        "\n",
        "We will not always now what elements are in a list before hand. Furthermore, as we run our code the elements in the list can change.\n",
        "\n",
        "Therefore, if we need to know the current length of a list we can use the **len()** function. \n",
        "\n",
        "The len() function takes as parameter the list for which you want to know its length\n"
      ],
      "metadata": {
        "id": "bmlg0AZ8mIpm"
      }
    },
    {
      "cell_type": "code",
      "source": [
        "#mixed data types\n",
        "mixed_list = [1, \"hi\", 3.4232]"
      ],
      "metadata": {
        "id": "S6-e3lLSR0lk"
      },
      "execution_count": null,
      "outputs": []
    },
    {
      "cell_type": "code",
      "source": [
        "len(mixed_list)"
      ],
      "metadata": {
        "id": "KXwZVuqhmQWt",
        "colab": {
          "base_uri": "https://localhost:8080/"
        },
        "outputId": "265c336b-18c4-41ca-e9b5-cdb9385cd36b"
      },
      "execution_count": null,
      "outputs": [
        {
          "output_type": "execute_result",
          "data": {
            "text/plain": [
              "3"
            ]
          },
          "metadata": {},
          "execution_count": 85
        }
      ]
    },
    {
      "cell_type": "markdown",
      "source": [
        "###Task k): \n",
        "Write code below to obtain and print the length of the animals list"
      ],
      "metadata": {
        "id": "Sw2oN1MH1AYS"
      }
    },
    {
      "cell_type": "code",
      "source": [
        "# Write your code on this cell\n",
        "len(animals)"
      ],
      "metadata": {
        "colab": {
          "base_uri": "https://localhost:8080/"
        },
        "id": "tbekAOABmW-8",
        "outputId": "cf586d28-7f31-43e8-eb5d-7b04889641e1"
      },
      "execution_count": null,
      "outputs": [
        {
          "output_type": "execute_result",
          "data": {
            "text/plain": [
              "5"
            ]
          },
          "metadata": {},
          "execution_count": 86
        }
      ]
    },
    {
      "cell_type": "markdown",
      "source": [
        "## Slice\n",
        "We can use slicing to obtain sublists by providing on square brackets a start_index, and an end_index\n",
        "\n",
        "start_index = Where the sublist will start. If not expecified it will be 0\n",
        "end_index = Where the sublist will end (exclusive). If not expecified it will the length of the list\n",
        "\n",
        "The end_index is not included in the sublist\n"
      ],
      "metadata": {
        "id": "ny9TXBTqoI5C"
      }
    },
    {
      "cell_type": "code",
      "source": [
        "animals"
      ],
      "metadata": {
        "id": "VxqZ9n5msj06",
        "colab": {
          "base_uri": "https://localhost:8080/"
        },
        "outputId": "c4cd874e-f0f8-46ae-e717-7635d1ddb270"
      },
      "execution_count": null,
      "outputs": [
        {
          "output_type": "execute_result",
          "data": {
            "text/plain": [
              "['cat', 'dog', 'bunny', 'whale', 'lizard']"
            ]
          },
          "metadata": {},
          "execution_count": 87
        }
      ]
    },
    {
      "cell_type": "code",
      "source": [
        "length_of_animals = len(animals)"
      ],
      "metadata": {
        "id": "SF2vVx1XDuLH"
      },
      "execution_count": null,
      "outputs": []
    },
    {
      "cell_type": "code",
      "source": [
        "length_of_animals"
      ],
      "metadata": {
        "id": "pd8KtsY3orNI",
        "colab": {
          "base_uri": "https://localhost:8080/"
        },
        "outputId": "b0d1fec1-461a-48ee-a390-76afc35a567b"
      },
      "execution_count": null,
      "outputs": [
        {
          "output_type": "execute_result",
          "data": {
            "text/plain": [
              "5"
            ]
          },
          "metadata": {},
          "execution_count": 89
        }
      ]
    },
    {
      "cell_type": "code",
      "source": [
        "animals[2:length_of_animals] # gets a sublist with animals at positions 2,3, and 4"
      ],
      "metadata": {
        "id": "tX56QD9hSfm8",
        "colab": {
          "base_uri": "https://localhost:8080/"
        },
        "outputId": "8e4243c8-aaa6-455d-fd75-ef948e1893fb"
      },
      "execution_count": null,
      "outputs": [
        {
          "output_type": "execute_result",
          "data": {
            "text/plain": [
              "['bunny', 'whale', 'lizard']"
            ]
          },
          "metadata": {},
          "execution_count": 90
        }
      ]
    },
    {
      "cell_type": "code",
      "source": [
        "animals = ['cat', 'dog', 'bunny', 'whale', 'lizard', 'dolphin', 'pig']\n",
        "animals[2:-2]"
      ],
      "metadata": {
        "id": "MEhfsAm9t4M8",
        "colab": {
          "base_uri": "https://localhost:8080/"
        },
        "outputId": "363e362c-ce21-4aba-bd82-7932b825ea9e"
      },
      "execution_count": null,
      "outputs": [
        {
          "output_type": "execute_result",
          "data": {
            "text/plain": [
              "['bunny', 'whale', 'lizard']"
            ]
          },
          "metadata": {},
          "execution_count": 91
        }
      ]
    },
    {
      "cell_type": "code",
      "source": [
        "animals[2:] # sublist with every element starting at position 2"
      ],
      "metadata": {
        "id": "ccxBggaQpsY1",
        "colab": {
          "base_uri": "https://localhost:8080/"
        },
        "outputId": "ef78f433-2cb4-4daf-b247-f84f644545fa"
      },
      "execution_count": null,
      "outputs": [
        {
          "output_type": "execute_result",
          "data": {
            "text/plain": [
              "['bunny', 'whale', 'lizard', 'dolphin', 'pig']"
            ]
          },
          "metadata": {},
          "execution_count": 92
        }
      ]
    },
    {
      "cell_type": "code",
      "source": [
        "animals[2:-1] # We use -1 to indicate the last element. Since it is exclusive the last element is not included"
      ],
      "metadata": {
        "id": "XYXSJ8czo_oQ",
        "colab": {
          "base_uri": "https://localhost:8080/"
        },
        "outputId": "608195cb-98f8-42a9-cbf1-3f7eaebf0f92"
      },
      "execution_count": null,
      "outputs": [
        {
          "output_type": "execute_result",
          "data": {
            "text/plain": [
              "['bunny', 'whale', 'lizard', 'dolphin']"
            ]
          },
          "metadata": {},
          "execution_count": 93
        }
      ]
    },
    {
      "cell_type": "code",
      "source": [
        "animals[:3] #sublist with all the elements from the beginning until index 2"
      ],
      "metadata": {
        "id": "o0P5u09zp_qa",
        "colab": {
          "base_uri": "https://localhost:8080/"
        },
        "outputId": "1cfff04f-adbf-461d-f009-bbb0dd127bb2"
      },
      "execution_count": null,
      "outputs": [
        {
          "output_type": "execute_result",
          "data": {
            "text/plain": [
              "['cat', 'dog', 'bunny']"
            ]
          },
          "metadata": {},
          "execution_count": 94
        }
      ]
    },
    {
      "cell_type": "markdown",
      "source": [
        "### Task l):\n",
        "**Before you run the cell below,** Write on this text cell what do you think the results will be?\n",
        "\n",
        "**Write here**\n",
        "All elements of the list will be printed"
      ],
      "metadata": {
        "id": "_Go1L_sotAuZ"
      }
    },
    {
      "cell_type": "code",
      "source": [
        "animals[:] "
      ],
      "metadata": {
        "id": "oe9SG-qas8ac",
        "colab": {
          "base_uri": "https://localhost:8080/"
        },
        "outputId": "4b4348ec-6dbf-44fc-fb44-981bdd7d15e7"
      },
      "execution_count": null,
      "outputs": [
        {
          "output_type": "execute_result",
          "data": {
            "text/plain": [
              "['cat', 'dog', 'bunny', 'whale', 'lizard', 'dolphin', 'pig']"
            ]
          },
          "metadata": {},
          "execution_count": 95
        }
      ]
    },
    {
      "cell_type": "markdown",
      "source": [
        "Notice that getting a sublist does not change the original list"
      ],
      "metadata": {
        "id": "qfx8dj3fo2VX"
      }
    },
    {
      "cell_type": "code",
      "source": [
        "animals"
      ],
      "metadata": {
        "id": "zj_I89Two0DO",
        "colab": {
          "base_uri": "https://localhost:8080/"
        },
        "outputId": "c7424ed6-142d-4ee5-8d6b-f3ac7a0e278c"
      },
      "execution_count": null,
      "outputs": [
        {
          "output_type": "execute_result",
          "data": {
            "text/plain": [
              "['cat', 'dog', 'bunny', 'whale', 'lizard', 'dolphin', 'pig']"
            ]
          },
          "metadata": {},
          "execution_count": 96
        }
      ]
    },
    {
      "cell_type": "markdown",
      "source": [
        "Slicing has a third(optional) parameter known as the step. You can use the step to tell python to skip that many elements. the default is one"
      ],
      "metadata": {
        "id": "gwld66rmrlU7"
      }
    },
    {
      "cell_type": "code",
      "source": [
        "numbers = [1,2,3,4,5,6,7,8,9,10]\n",
        "\n",
        "evens = numbers[::2]\n",
        "evens"
      ],
      "metadata": {
        "id": "hjhSY5_Gr_0i",
        "colab": {
          "base_uri": "https://localhost:8080/"
        },
        "outputId": "92019f4d-7ccc-4fc2-d1c9-cc83f76d393e"
      },
      "execution_count": null,
      "outputs": [
        {
          "output_type": "execute_result",
          "data": {
            "text/plain": [
              "[1, 3, 5, 7, 9]"
            ]
          },
          "metadata": {},
          "execution_count": 97
        }
      ]
    },
    {
      "cell_type": "code",
      "source": [
        "nums = [12, 3, 4, 5, 34, 87, 6, 5, 4, 1]"
      ],
      "metadata": {
        "id": "QV4SSpUGNZL2"
      },
      "execution_count": null,
      "outputs": []
    },
    {
      "cell_type": "code",
      "source": [
        "# Fix this code to use the length of the numbers array rather than 0\n",
        "lenght = len(nums)\n",
        "first_index = 0\n",
        "second_index = int(lenght * 0.10)\n",
        "ten_percent = nums[first_index:second_index]\n",
        "print(\"Indexes from: \" + str(first_index) + \" to \" + str(second_index))\n",
        "print(ten_percent)"
      ],
      "metadata": {
        "colab": {
          "base_uri": "https://localhost:8080/"
        },
        "id": "9c8X4JqrArxL",
        "outputId": "7b48d690-7a68-4c18-90af-79d2552010a3"
      },
      "execution_count": null,
      "outputs": [
        {
          "output_type": "stream",
          "name": "stdout",
          "text": [
            "Indexes from: 0 to 1\n",
            "[12]\n"
          ]
        }
      ]
    },
    {
      "cell_type": "markdown",
      "source": [
        "You can use the following [Cheat Sheet](https://hakin9.org/python-cheat-sheet-for-hackers-and-developers/) for reference"
      ],
      "metadata": {
        "id": "XCXlv1exceeZ"
      }
    },
    {
      "cell_type": "markdown",
      "source": [
        "# Problem 2:\n",
        "Write a program that takes a list of integers as input and slices it into three parts: the first part should contain the first 20% of the list, the second part should contain the middle 60% of the list, and the third part should contain the last 20% of the list. \n",
        "\n",
        "The program should do the following:\n",
        "\n",
        "1.   Define a list of integers\n",
        "2.   Slice the list into three parts as described above\n",
        "3.   Print the three parts of the list\n"
      ],
      "metadata": {
        "id": "HUfvRmOB1ckd"
      }
    },
    {
      "cell_type": "markdown",
      "source": [
        "**Example:** Given the list `[2, 8, 1, 6, 3, 9, 4, 7, 5, 10]`\n",
        "\n",
        "The first part would contain the first 20% of elements. \n",
        "\n",
        "That is indexes 0 to 1 `[2,8]`\n",
        "\n",
        "The second part would contain the first 60% of elements. \n",
        "\n",
        "That is indexes 2 to 7 `[1, 6, 3, 9, 4, 7]`\n",
        "\n",
        "The third part would contain the last 20% of elements. \n",
        "\n",
        "That is indexes 8 to 9 `[5,10]`\n",
        "\n",
        "**Hint 1:** 10% is the same as 0.1, 20% is the same as 0.2\n",
        "\n",
        "**Hint 2:** Multiplying the lenght of the array by 0.1 would give you the index at which the first 10% of elements end"
      ],
      "metadata": {
        "id": "9EBPxQ9Q160R"
      }
    },
    {
      "cell_type": "markdown",
      "source": [
        "Write your code on the code cells Bellow"
      ],
      "metadata": {
        "id": "mACEOHeZBHe3"
      }
    },
    {
      "cell_type": "code",
      "source": [
        "# Create the array of numbers on this cell\n",
        "\n",
        "my_list = [1, 2, 3, 4, 5, 6, 7, 8, 9, 10, 11, 12, 13, 14, 15, 16, 17, 18, 19, 20, 21, 22, 23, 24, 25, 26, 27, 28, 29, 30]\n"
      ],
      "metadata": {
        "id": "DZZTjvE-146c"
      },
      "execution_count": null,
      "outputs": []
    },
    {
      "cell_type": "code",
      "source": [
        "# Calculate the indices to slice the list on this cell. Hint: You need four indices\n",
        "\n",
        "# Calculate the length of the list\n",
        "length = len(my_list)\n",
        "\n",
        "# Define the indices for the three parts of the list\n",
        "part1_end = int(length * 0.2)\n",
        "part3_start = int(length * 0.8)\n",
        "part2_start = int((part1_end + part3_start) / 2)\n",
        "part2_end = int(part2_start + (length * 0.6))\n",
        "\n"
      ],
      "metadata": {
        "id": "iSUUeER6BNH-"
      },
      "execution_count": null,
      "outputs": []
    },
    {
      "cell_type": "code",
      "source": [
        "# Slice the list into three parts on this cell\n",
        "part1 = my_list[:part1_end]\n",
        "part2 = my_list[part2_start:part2_end]\n",
        "part3 = my_list[part3_start:]\n",
        "\n",
        "\n"
      ],
      "metadata": {
        "id": "GcDnGDgUBQQx"
      },
      "execution_count": null,
      "outputs": []
    },
    {
      "cell_type": "code",
      "source": [
        "# Print the three parts of the list on this code cell\n",
        "print(\"Part 1:\", part1)\n",
        "print(\"Part 2:\", part2)\n",
        "print(\"Part 3:\", part3)\n",
        "\n"
      ],
      "metadata": {
        "id": "oK20seInBboN",
        "colab": {
          "base_uri": "https://localhost:8080/"
        },
        "outputId": "91c0be52-8615-4efc-a768-c693e6882546"
      },
      "execution_count": null,
      "outputs": [
        {
          "output_type": "stream",
          "name": "stdout",
          "text": [
            "Part 1: [1, 2, 3, 4, 5, 6]\n",
            "Part 2: [16, 17, 18, 19, 20, 21, 22, 23, 24, 25, 26, 27, 28, 29, 30]\n",
            "Part 3: [25, 26, 27, 28, 29, 30]\n"
          ]
        }
      ]
    },
    {
      "cell_type": "markdown",
      "source": [
        "# Range"
      ],
      "metadata": {
        "id": "74U9WRJHcfzr"
      }
    },
    {
      "cell_type": "markdown",
      "source": [
        "The range() function returns a sequence of numbers, starting at a given value, and increments by a certain amount, and stops before a specified number.\n",
        "\n",
        "range(start_value, end_value, increment_value)\n",
        "\n",
        "start_value and increment value are optional.\n",
        "\n",
        "If not provided,\n",
        "*   The stating value will be 0\n",
        "*   The increment value will be 1\n",
        "\n",
        "\n"
      ],
      "metadata": {
        "id": "ACAbXTsVCdiM"
      }
    },
    {
      "cell_type": "code",
      "source": [
        "for i in range(6):\n",
        "  print(i)"
      ],
      "metadata": {
        "id": "dQ98s9rzFmUg",
        "colab": {
          "base_uri": "https://localhost:8080/"
        },
        "outputId": "067aa888-65de-4c69-c326-f7bf89615aac"
      },
      "execution_count": null,
      "outputs": [
        {
          "output_type": "stream",
          "name": "stdout",
          "text": [
            "0\n",
            "1\n",
            "2\n",
            "3\n",
            "4\n",
            "5\n"
          ]
        }
      ]
    },
    {
      "cell_type": "code",
      "source": [
        "for i in range(3,6):\n",
        "  print(i)"
      ],
      "metadata": {
        "colab": {
          "base_uri": "https://localhost:8080/"
        },
        "id": "k7bS608ImaCp",
        "outputId": "5588ae23-2c74-4aa4-e639-875280cb43f9"
      },
      "execution_count": null,
      "outputs": [
        {
          "output_type": "stream",
          "name": "stdout",
          "text": [
            "3\n",
            "4\n",
            "5\n"
          ]
        }
      ]
    },
    {
      "cell_type": "markdown",
      "source": [
        "### Task m):\n",
        "Create the following ranges:\n",
        "\n",
        "\n",
        "*   All the numbers between 0 and 25 (inclusive)\n",
        "*   All the odd numbers between 1 and 100\n",
        "*   All the numbers between 1 and 50 that are multiples of three\n",
        "\n",
        "\n"
      ],
      "metadata": {
        "id": "R5kvFEe6CBB-"
      }
    },
    {
      "cell_type": "code",
      "source": [
        "## Write code to create the ranges below\n",
        "\n",
        "#All the numbers between 0 and 25 (inclusive)\n",
        "\n",
        "# Initialize an empty list to store 25 numbers\n",
        "range25 = []\n",
        "\n",
        "#Loop through the range from 1 to 26\n",
        "for i in range(0,26):\n",
        "  range25.append(i)\n",
        "\n",
        "print('0-25= ' + str(range25))\n",
        "#---------------------------------------------------------------------------------\n",
        "#All the odd numbers between 1 and 100\n",
        "# Initialize an empty list to store the odd numbers\n",
        "odd_numbers = []\n",
        "\n",
        "# Loop through the range from 1 to 100, stepping by 2 (i.e., skipping even numbers)\n",
        "for num in range(1, 100, 2):\n",
        "    odd_numbers.append(num)\n",
        "\n",
        "# Print the list of odd numbers\n",
        "print('Odd numbers = ' + str(odd_numbers))\n",
        "\n",
        "\n",
        "#-----------------------------------------------------------------------------------\n",
        "# Initialize an empty list to store the multiples_of_3\n",
        "multiples_of_3 = []\n",
        "\n",
        "for num in range(1,51):\n",
        "  if num%3==0:\n",
        "    multiples_of_3.append(num)\n",
        "\n",
        "print('multiples_of_3= '+ str(multiples_of_3))\n"
      ],
      "metadata": {
        "id": "ANw26fkdCZzN",
        "colab": {
          "base_uri": "https://localhost:8080/"
        },
        "outputId": "d6d5b2a9-3391-4cea-ae8f-b3c8b1ad6f39"
      },
      "execution_count": null,
      "outputs": [
        {
          "output_type": "stream",
          "name": "stdout",
          "text": [
            "0-25= [0, 1, 2, 3, 4, 5, 6, 7, 8, 9, 10, 11, 12, 13, 14, 15, 16, 17, 18, 19, 20, 21, 22, 23, 24, 25]\n",
            "Odd numbers = [1, 3, 5, 7, 9, 11, 13, 15, 17, 19, 21, 23, 25, 27, 29, 31, 33, 35, 37, 39, 41, 43, 45, 47, 49, 51, 53, 55, 57, 59, 61, 63, 65, 67, 69, 71, 73, 75, 77, 79, 81, 83, 85, 87, 89, 91, 93, 95, 97, 99]\n",
            "multiples_of_3= [3, 6, 9, 12, 15, 18, 21, 24, 27, 30, 33, 36, 39, 42, 45, 48]\n"
          ]
        }
      ]
    },
    {
      "cell_type": "markdown",
      "source": [
        "# Loops"
      ],
      "metadata": {
        "id": "m9sN6RIbzEW-"
      }
    },
    {
      "cell_type": "markdown",
      "source": [
        "The for loop is useful when we want to iterate over the items of any sequence of variables (list) in the order that they appear in the sequence.\n",
        "\n",
        "Take the following for loop for example:\n",
        "\n",
        "for i in (1,2,3,4,5):\n",
        "    print i\n",
        "The loop above will print the numbers 1 2 3 4 5 each on a separate line. The variable i takes on each of the values in the collection provided in parentheses, and the loop executes once for each value of i. The collection (1,2,3,4,5) is called a tuple, and can contain any type of variable in any order."
      ],
      "metadata": {
        "id": "37T_7I-pz_Gu"
      }
    },
    {
      "cell_type": "code",
      "source": [
        "for i in range(3,6):\n",
        "  print(i)"
      ],
      "metadata": {
        "colab": {
          "base_uri": "https://localhost:8080/"
        },
        "id": "dcZCKRYdzcLC",
        "outputId": "efdce3bb-4c85-41fb-f2be-f2a20524a4eb"
      },
      "execution_count": null,
      "outputs": [
        {
          "output_type": "stream",
          "name": "stdout",
          "text": [
            "3\n",
            "4\n",
            "5\n"
          ]
        }
      ]
    },
    {
      "cell_type": "code",
      "source": [
        "temps = [90, 86.6,  75.43, 78.9, 91]\n",
        "for i, elem in enumerate(temps):\n",
        "  print(f\"i is: {i}. elem is: {elem:0.1f}\")"
      ],
      "metadata": {
        "id": "-LIDSldRVRKp",
        "colab": {
          "base_uri": "https://localhost:8080/"
        },
        "outputId": "72dd7189-4ea1-49bd-c6fd-d54dcf4d9d19"
      },
      "execution_count": null,
      "outputs": [
        {
          "output_type": "stream",
          "name": "stdout",
          "text": [
            "i is: 0. elem is: 90.0\n",
            "i is: 1. elem is: 86.6\n",
            "i is: 2. elem is: 75.4\n",
            "i is: 3. elem is: 78.9\n",
            "i is: 4. elem is: 91.0\n"
          ]
        }
      ]
    },
    {
      "cell_type": "markdown",
      "source": [
        "### Below find some examples of loops and lists. "
      ],
      "metadata": {
        "id": "ctyKzNGdcr8n"
      }
    },
    {
      "cell_type": "code",
      "source": [
        "#EXAMPLE\n",
        "\n",
        "list1 = [0,2,2,3,4]\n",
        "# Initialize a variable that will hold the sum of the numbers\n",
        "# Since we have not seen any numbers, we start the sum at 0\n",
        "sum=0\n",
        "# Do a loop that goes from index 0 to the length of list1, i is the variable that holds the current index\n",
        "for i in range(len(list1)):  \n",
        "  print(\"------------\")\n",
        "  print(\"i:\")\n",
        "  print(i)\n",
        "  print(\"------------\")\n",
        "  print(\"list item:\")\n",
        "  print(list1[i])\n",
        "  print(\"------------\")\n",
        "  sum+=list1[i]\n",
        "  print(\"sum:\")\n",
        "  print(sum)\n",
        "  print(\"------------\")"
      ],
      "metadata": {
        "id": "hptqrQYIVXsb",
        "colab": {
          "base_uri": "https://localhost:8080/"
        },
        "outputId": "089f96d0-991f-46a5-f7f0-a54aa00f7ea5"
      },
      "execution_count": null,
      "outputs": [
        {
          "output_type": "stream",
          "name": "stdout",
          "text": [
            "------------\n",
            "i:\n",
            "0\n",
            "------------\n",
            "list item:\n",
            "0\n",
            "------------\n",
            "sum:\n",
            "0\n",
            "------------\n",
            "------------\n",
            "i:\n",
            "1\n",
            "------------\n",
            "list item:\n",
            "2\n",
            "------------\n",
            "sum:\n",
            "2\n",
            "------------\n",
            "------------\n",
            "i:\n",
            "2\n",
            "------------\n",
            "list item:\n",
            "2\n",
            "------------\n",
            "sum:\n",
            "4\n",
            "------------\n",
            "------------\n",
            "i:\n",
            "3\n",
            "------------\n",
            "list item:\n",
            "3\n",
            "------------\n",
            "sum:\n",
            "7\n",
            "------------\n",
            "------------\n",
            "i:\n",
            "4\n",
            "------------\n",
            "list item:\n",
            "4\n",
            "------------\n",
            "sum:\n",
            "11\n",
            "------------\n"
          ]
        }
      ]
    },
    {
      "cell_type": "code",
      "source": [
        "#EXAMPLE\n",
        "# To build a new list, you can create an emtpy list and append to it\n",
        "newlist = []\n",
        "for i in range(5):\n",
        "  newlist.append(i**2)\n",
        "print(newlist)"
      ],
      "metadata": {
        "id": "lhgwNPLqV5bW",
        "colab": {
          "base_uri": "https://localhost:8080/"
        },
        "outputId": "0875e951-cc58-4504-d63a-8345884303f8"
      },
      "execution_count": null,
      "outputs": [
        {
          "output_type": "stream",
          "name": "stdout",
          "text": [
            "[0, 1, 4, 9, 16]\n"
          ]
        }
      ]
    },
    {
      "cell_type": "code",
      "source": [
        "x = int(2)\n",
        "y = float(3.2)"
      ],
      "metadata": {
        "id": "SE3VuCMcV6Uw"
      },
      "execution_count": null,
      "outputs": []
    },
    {
      "cell_type": "code",
      "source": [
        "print(x+y)"
      ],
      "metadata": {
        "id": "CJRoHmfbA45-",
        "colab": {
          "base_uri": "https://localhost:8080/"
        },
        "outputId": "76255b75-e0d0-41bf-df43-8a543e19ba92"
      },
      "execution_count": null,
      "outputs": [
        {
          "output_type": "stream",
          "name": "stdout",
          "text": [
            "5.2\n"
          ]
        }
      ]
    },
    {
      "cell_type": "code",
      "source": [
        "int(8.6)"
      ],
      "metadata": {
        "id": "ziFuZ_MHA5qd",
        "colab": {
          "base_uri": "https://localhost:8080/"
        },
        "outputId": "74d1acc9-197c-4f72-8481-6f7cdba02ddf"
      },
      "execution_count": null,
      "outputs": [
        {
          "output_type": "execute_result",
          "data": {
            "text/plain": [
              "8"
            ]
          },
          "metadata": {},
          "execution_count": 116
        }
      ]
    },
    {
      "cell_type": "code",
      "source": [
        "print(4.634)"
      ],
      "metadata": {
        "id": "q0yU0rCRBJdF",
        "colab": {
          "base_uri": "https://localhost:8080/"
        },
        "outputId": "9126caac-1ef7-4c97-eb12-80b6f6bd2581"
      },
      "execution_count": null,
      "outputs": [
        {
          "output_type": "stream",
          "name": "stdout",
          "text": [
            "4.634\n"
          ]
        }
      ]
    },
    {
      "cell_type": "code",
      "source": [
        "print('hello')"
      ],
      "metadata": {
        "id": "sqXhQJtkBaNr",
        "colab": {
          "base_uri": "https://localhost:8080/"
        },
        "outputId": "96fef70b-9ae3-4048-c84e-c32dd16db2b0"
      },
      "execution_count": null,
      "outputs": [
        {
          "output_type": "stream",
          "name": "stdout",
          "text": [
            "hello\n"
          ]
        }
      ]
    },
    {
      "cell_type": "code",
      "source": [
        "print(\"hello\"+' '+str(8))"
      ],
      "metadata": {
        "id": "F6uojPGWBeoT",
        "colab": {
          "base_uri": "https://localhost:8080/"
        },
        "outputId": "b23892b8-5f36-449e-9346-91d11a5a3ff5"
      },
      "execution_count": null,
      "outputs": [
        {
          "output_type": "stream",
          "name": "stdout",
          "text": [
            "hello 8\n"
          ]
        }
      ]
    },
    {
      "cell_type": "code",
      "source": [
        "\"hello\"*3"
      ],
      "metadata": {
        "id": "yi9nIsCqBly8",
        "colab": {
          "base_uri": "https://localhost:8080/",
          "height": 35
        },
        "outputId": "da5cfc60-9378-434a-895c-16d5b317035f"
      },
      "execution_count": null,
      "outputs": [
        {
          "output_type": "execute_result",
          "data": {
            "text/plain": [
              "'hellohellohello'"
            ],
            "application/vnd.google.colaboratory.intrinsic+json": {
              "type": "string"
            }
          },
          "metadata": {},
          "execution_count": 120
        }
      ]
    },
    {
      "cell_type": "code",
      "source": [
        "import numpy as np"
      ],
      "metadata": {
        "id": "Qz7sOaiDBtQa"
      },
      "execution_count": null,
      "outputs": []
    },
    {
      "cell_type": "code",
      "source": [
        "x = np.array([3,5,21,2])"
      ],
      "metadata": {
        "id": "FkPFDjGHnQz6"
      },
      "execution_count": null,
      "outputs": []
    },
    {
      "cell_type": "code",
      "source": [
        "type(x)"
      ],
      "metadata": {
        "id": "MxVHPj0snWYw",
        "colab": {
          "base_uri": "https://localhost:8080/"
        },
        "outputId": "9413d839-3d1c-4d80-a0a8-f2381a3feba9"
      },
      "execution_count": null,
      "outputs": [
        {
          "output_type": "execute_result",
          "data": {
            "text/plain": [
              "numpy.ndarray"
            ]
          },
          "metadata": {},
          "execution_count": 123
        }
      ]
    },
    {
      "cell_type": "code",
      "source": [
        "y = np.array([1,1,1,1])"
      ],
      "metadata": {
        "id": "Z-TpLEEMnXZY"
      },
      "execution_count": null,
      "outputs": []
    },
    {
      "cell_type": "code",
      "source": [
        "type(y)"
      ],
      "metadata": {
        "id": "5u4ft00LncBo",
        "colab": {
          "base_uri": "https://localhost:8080/"
        },
        "outputId": "2562e6da-3781-47e5-8e86-d113d037aba4"
      },
      "execution_count": null,
      "outputs": [
        {
          "output_type": "execute_result",
          "data": {
            "text/plain": [
              "numpy.ndarray"
            ]
          },
          "metadata": {},
          "execution_count": 125
        }
      ]
    },
    {
      "cell_type": "code",
      "source": [
        "x + y"
      ],
      "metadata": {
        "id": "Xhvqy7EBnasg",
        "colab": {
          "base_uri": "https://localhost:8080/"
        },
        "outputId": "b0b6936d-fd71-4a04-bfdb-56cd11eec0df"
      },
      "execution_count": null,
      "outputs": [
        {
          "output_type": "execute_result",
          "data": {
            "text/plain": [
              "array([ 4,  6, 22,  3])"
            ]
          },
          "metadata": {},
          "execution_count": 126
        }
      ]
    },
    {
      "cell_type": "code",
      "source": [
        "np.average(x)"
      ],
      "metadata": {
        "id": "0uTEsD-nniV3",
        "colab": {
          "base_uri": "https://localhost:8080/"
        },
        "outputId": "171bbaf8-c184-47b0-fabe-0253fcf17e3e"
      },
      "execution_count": null,
      "outputs": [
        {
          "output_type": "execute_result",
          "data": {
            "text/plain": [
              "7.75"
            ]
          },
          "metadata": {},
          "execution_count": 127
        }
      ]
    },
    {
      "cell_type": "code",
      "source": [
        "x == 5"
      ],
      "metadata": {
        "id": "iGQjskOgnxvI",
        "colab": {
          "base_uri": "https://localhost:8080/"
        },
        "outputId": "8ac91c3d-e2ee-40b7-f929-5aa830e3a71e"
      },
      "execution_count": null,
      "outputs": [
        {
          "output_type": "execute_result",
          "data": {
            "text/plain": [
              "array([False,  True, False, False])"
            ]
          },
          "metadata": {},
          "execution_count": 128
        }
      ]
    },
    {
      "cell_type": "markdown",
      "source": [
        "# Problem 3: Finding the Maximum Number\n",
        "\n",
        "Write a program that creates a list of 10 positive numbers and then finds the maximum number among those numbers using a loop. \n",
        "\n",
        "The program should do the following:\n",
        "\n",
        "1. Create a list with 10 numbers\n",
        "2. Use a loop to find the maximum number among the 10 numbers in the list\n",
        "3. Print the maximum number\n"
      ],
      "metadata": {
        "id": "GtKr6PZUDNzD"
      }
    },
    {
      "cell_type": "code",
      "source": [
        "#Write your code here\n",
        "# create a list of 10 positive numbers\n",
        "numbers = [5, 10, 15, 20, 25, 30, 35, 40, 45, 50]\n",
        "\n",
        "# set the initial maximum number to the first number in the list\n",
        "max_num = numbers[0]\n",
        "\n",
        "# use a loop to compare each number in the list with the current maximum number\n",
        "for num in numbers:\n",
        "    if num > max_num:\n",
        "        max_num = num\n",
        "\n",
        "# print the maximum number\n",
        "print(\"The maximum number in the list is:\", max_num)\n"
      ],
      "metadata": {
        "id": "0BNgSlS2Ge9f",
        "colab": {
          "base_uri": "https://localhost:8080/"
        },
        "outputId": "b6a856ee-4952-4e7d-ae38-e2a02d6d65b0"
      },
      "execution_count": null,
      "outputs": [
        {
          "output_type": "stream",
          "name": "stdout",
          "text": [
            "The maximum number in the list is: 50\n"
          ]
        }
      ]
    }
  ]
}